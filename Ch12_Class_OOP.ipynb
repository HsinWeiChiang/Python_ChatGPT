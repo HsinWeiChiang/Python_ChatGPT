{
 "cells": [
  {
   "cell_type": "code",
   "execution_count": null,
   "id": "283d449b",
   "metadata": {},
   "outputs": [],
   "source": [
    "# 12-1 Class 類別的定義與使用\n",
    "\n",
    "# 類別的語法定義如下-\n",
    "\n",
    "class Classname():\n",
    "      statement1\n",
    "\n",
    "      ....\n",
    "\n",
    "      statementn\n",
    "\n",
    "# 以銀行為例, 說明最基本的類別觀念\n"
   ]
  },
  {
   "cell_type": "code",
   "execution_count": 29,
   "id": "baeed060",
   "metadata": {},
   "outputs": [],
   "source": [
    "# 12-1-1 定義類別- Banks的類別定義\n",
    "\n",
    "class Banks():\n",
    "    '''定義銀行類別'''\n",
    "    bankname = 'Taipei Bank'  #定義屬性\n",
    "    \n",
    "    def motto(self):  #定義方法\n",
    "        return '以客為尊'"
   ]
  },
  {
   "cell_type": "code",
   "execution_count": null,
   "id": "16becc85",
   "metadata": {},
   "outputs": [],
   "source": [
    "# 12-1--2 操作類別的屬性與方法- 想操作類別的屬性與方法, 必須先宣告該類別的物件(object)變數, 簡稱 物件\n",
    "\n",
    "object.類別的屬性\n",
    "object.類別的方法\n"
   ]
  },
  {
   "cell_type": "code",
   "execution_count": 27,
   "id": "b30a4215",
   "metadata": {},
   "outputs": [
    {
     "name": "stdout",
     "output_type": "stream",
     "text": [
      "目前服務銀行是 Taipei Bank\n",
      "銀行服務理念是 以客為尊\n"
     ]
    }
   ],
   "source": [
    "# ch12_-2.py- 擴充 ch12_1.py\n",
    "class Banks():\n",
    "    '''定義銀行類別'''\n",
    "    bankname = 'Taipei Bank'  #定義屬性\n",
    "    \n",
    "    def motto(self):  #定義方法\n",
    "        return '以客為尊'\n",
    "\n",
    "userbank = Banks()  # 定義物件userbank\n",
    "print('目前服務銀行是', userbank.bankname)\n",
    "print('銀行服務理念是', userbank.motto())\n"
   ]
  },
  {
   "cell_type": "code",
   "execution_count": 5,
   "id": "69f45482",
   "metadata": {},
   "outputs": [
    {
     "data": {
      "text/plain": [
       "'\\n上述程式, 成功了存取了 Banks類別內的屬性與方法. 程式定義了userbank當作是Banks類別物件, 使用userbank物件讀取Banks類別內的bankname屬性\\n與motto()方法.\\n當建立一個物件後, 這個物件就可以向其他python物件一樣, 將物件當作 串列/元組/ 字典/ 集合元素使用.\\n也可以該物件當作函數的參數傳送, 或是將此物件當作函數的回傳值\\n'"
      ]
     },
     "execution_count": 5,
     "metadata": {},
     "output_type": "execute_result"
    }
   ],
   "source": [
    "'''\n",
    "上述程式, 成功了存取了 Banks類別內的屬性與方法. 程式定義了userbank當作是Banks類別物件, 使用userbank物件讀取Banks類別內的bankname屬性\n",
    "與motto()方法.\n",
    "當建立一個物件後, 這個物件就可以向其他python物件一樣, 將物件當作 串列/元組/ 字典/ 集合元素使用.\n",
    "也可以該物件當作函數的參數傳送, 或是將此物件當作函數的回傳值\n",
    "'''\n"
   ]
  },
  {
   "cell_type": "code",
   "execution_count": 30,
   "id": "7ed7b9ad",
   "metadata": {},
   "outputs": [
    {
     "name": "stdout",
     "output_type": "stream",
     "text": [
      "Hung 存款餘額是  100\n"
     ]
    }
   ],
   "source": [
    "# 12-1-3 類別的建構方法\n",
    "# ch12_3.py\n",
    "\n",
    "class Banks():\n",
    "    bankname = 'Taipei Bank'            #定義屬性\n",
    "    def __init__(self, uname, money):   #初始化方法\n",
    "        self.name = uname               #設定存款者的名字\n",
    "        self.balance = money            #設定所存的錢\n",
    "\n",
    "    def get_balance(self):              #獲得存款餘額\n",
    "        return self.balance\n",
    "    \n",
    "hungbank = Banks('hung', 100)\n",
    "print(hungbank.name.title(), \"存款餘額是 \" , hungbank.get_balance())"
   ]
  },
  {
   "cell_type": "code",
   "execution_count": 24,
   "id": "e7cb9b02",
   "metadata": {},
   "outputs": [
    {
     "name": "stdout",
     "output_type": "stream",
     "text": [
      "Hung 目前餘額 100\n",
      "存款 300 完成\n",
      "Hung 目前餘額 400\n",
      "提款 800 完成\n",
      "Hung 目前餘額 -400\n"
     ]
    }
   ],
   "source": [
    "# ch12_4.py - 擴充ch12_3.py, 主要增加執行存款與提款功能, 同時在類別內可以直接列出目前餘額\n",
    "\n",
    "class Banks():\n",
    "    '''定義銀行類別'''\n",
    "    bankname = 'Taipei Bank'\n",
    "    def __init__(self, uname, money):\n",
    "        self.name = uname\n",
    "        self.balance = money\n",
    "\n",
    "    def save_money(self, money):\n",
    "        self.balance += money\n",
    "        print('存款', money, \"完成\")      \n",
    "\n",
    "    def withdraw_money(self, money):\n",
    "        self.balance -= money\n",
    "        print('提款', money, \"完成\")\n",
    "\n",
    "    def get_balance(self):\n",
    "        print(self.name.title(),'目前餘額', self.balance)\n",
    "\n",
    "hungbank = Banks ('hung', 100)\n",
    "hungbank.get_balance()\n",
    "hungbank.save_money(300)\n",
    "hungbank.get_balance()\n",
    "hungbank.withdraw_money(800)   \n",
    "hungbank.get_balance()"
   ]
  },
  {
   "cell_type": "code",
   "execution_count": 8,
   "id": "c445f545",
   "metadata": {},
   "outputs": [
    {
     "name": "stdout",
     "output_type": "stream",
     "text": [
      "Chiang 目前餘額 88888\n",
      "Tu 目前餘額 999\n"
     ]
    }
   ],
   "source": [
    "# 建立完類別後, 可以隨時使用多個物件 引用這個類別的屬性與函數-\n",
    "\n",
    "chiangbank = Banks('chiang', 88888)\n",
    "tubank = Banks('tu', 999)\n",
    "chiangbank.get_balance()\n",
    "tubank.get_balance()"
   ]
  },
  {
   "cell_type": "code",
   "execution_count": 25,
   "id": "8746f453",
   "metadata": {},
   "outputs": [
    {
     "name": "stdout",
     "output_type": "stream",
     "text": [
      "目前開戶銀行 Taipei Bank\n",
      "Chiang 目前餘額: 0\n",
      "存款 100 完成\n",
      "Chiang 目前餘額: 100\n"
     ]
    }
   ],
   "source": [
    "'''\n",
    "12-1-4 屬性初始值的設定- 之前程式Banks類別中第四列 bankname 是設為'Taipei Bank' 其實這是初始值的設定\n",
    "通常Python在設初始值是將初始值設在 __init__()方法內, 下列這個程式同時將定義Banks類別物件時, 省略開戶金額\n",
    "相當於定義Banks類別物件時只要2個參數\n",
    "'''\n",
    "\n",
    "class Banks():\n",
    "    def __init__(self, uname):\n",
    "        self.name = uname\n",
    "        self.balance = 0\n",
    "        self.bankname = 'Taipei Bank'\n",
    "\n",
    "    def save_money(self, money):\n",
    "        self.balance += money\n",
    "        print('存款', money, '完成')\n",
    "\n",
    "    def withdraw_money(self, money):\n",
    "        self.balance -= money\n",
    "        print('提款', money, '完成')\n",
    "    \n",
    "    def get_balance(self):\n",
    "        print(self.name.title(), '目前餘額:' , self.balance)\n",
    "\n",
    "chiangbank = Banks('chiang')\n",
    "print('目前開戶銀行', chiangbank.bankname)\n",
    "chiangbank.get_balance()\n",
    "chiangbank.save_money(100)\n",
    "chiangbank.get_balance()"
   ]
  },
  {
   "cell_type": "code",
   "execution_count": null,
   "id": "f9478b64",
   "metadata": {},
   "outputs": [],
   "source": [
    "# 12-2 類別的訪問權限- 封裝 (encapsulation)-\n",
    "## 學習類別至今, 可以從程式直接引用類別內的屬性與方法, 像這種類別類屬性可以讓外部引用稱 公有(public)屬性,\n",
    "## 且可以讓外部引用方法稱 公有方法.\n",
    "## 前面介紹使用的 Banks類別內屬性與方法都是 公有屬性與方法. \n",
    "## 外部直接引用時也代表可以直接修改類別內的屬性值, 這將造成類別資料不安全\n",
    "## 精神上, Python 提供一個私有屬性與方法的觀念. 這觀念主要精神是類別外無法直接更改類別內的私有屬性\n",
    "## 類別外也無法直接呼叫私有方法, 這種觀念 稱為 封裝(encapsulation)"
   ]
  },
  {
   "cell_type": "code",
   "execution_count": 25,
   "id": "1912ef2b",
   "metadata": {},
   "outputs": [
    {
     "name": "stdout",
     "output_type": "stream",
     "text": [
      "Chiang 目前餘額: 100\n",
      "Chiang 目前餘額: 10000\n",
      "目前開戶銀行 Suck my dick\n"
     ]
    }
   ],
   "source": [
    "# 12-2-1 私有屬性-\n",
    "## 為了確保類別內的屬性安全, 其實有必要限制外部無法直接存取類別內的屬性值\n",
    "## 以下範例, 外部直接存取屬性值, 造成存款餘額不安全的實例-\n",
    "\n",
    "chaingbank = Banks('chiang')  #定義物件chiangbank\n",
    "chiangbank.get_balance()\n",
    "chiangbank.balance = 10000    #類別外直接串改存款金額\n",
    "chiangbank.get_balance()\n",
    "chiangbank.bankname = 'Suck my dick'\n",
    "print('目前開戶銀行', chiangbank.bankname)\n"
   ]
  },
  {
   "cell_type": "code",
   "execution_count": null,
   "id": "c5a26c86",
   "metadata": {},
   "outputs": [],
   "source": [
    "# 由上述程式, 直接透過 chiangbank.balance 串改餘額, 沒有經過save_money()方法存錢.\n",
    "# 為了避免這種現象發生, Python對於類別的屬性增加了 私有屬性(Provate attribute)的觀念\n",
    "# 應用方式是 宣告在屬性名稱前面增加 __ (兩個底線), 宣告私有屬性後, 類別外的程式就無法引用了"
   ]
  },
  {
   "cell_type": "code",
   "execution_count": 41,
   "id": "5343bdf2",
   "metadata": {},
   "outputs": [
    {
     "name": "stdout",
     "output_type": "stream",
     "text": [
      "Chiang 目前餘額: 0\n",
      "Chiang 目前餘額: 0\n"
     ]
    },
    {
     "ename": "AttributeError",
     "evalue": "'Banks' object has no attribute '__bankname'",
     "output_type": "error",
     "traceback": [
      "\u001b[31m---------------------------------------------------------------------------\u001b[39m",
      "\u001b[31mAttributeError\u001b[39m                            Traceback (most recent call last)",
      "\u001b[36mCell\u001b[39m\u001b[36m \u001b[39m\u001b[32mIn[41]\u001b[39m\u001b[32m, line 25\u001b[39m\n\u001b[32m     22\u001b[39m chiangbank.get_balance()\n\u001b[32m     24\u001b[39m \u001b[38;5;66;03m# chiangbank.__bankname = 'suck my dick'\u001b[39;00m\n\u001b[32m---> \u001b[39m\u001b[32m25\u001b[39m \u001b[43mchiangbank\u001b[49m\u001b[43m.\u001b[49m\u001b[43m__bankname\u001b[49m\n",
      "\u001b[31mAttributeError\u001b[39m: 'Banks' object has no attribute '__bankname'"
     ]
    }
   ],
   "source": [
    "# ch12_8.py- 重新設計, 將前面程式範例 屬性改為私有屬性\n",
    "class Banks():\n",
    "    def __init__(self, uname):\n",
    "        self.__name = uname\n",
    "        self.__balance = 0\n",
    "        self.__bankname = 'Taipei Bank'\n",
    "\n",
    "    def save_money(self, money):\n",
    "        self.__balance += money\n",
    "        print('存款', money, '完成')\n",
    "\n",
    "    def withdraw_money(self, money):\n",
    "        self.__balance -= money\n",
    "        print('提款', money, '完成')\n",
    "    \n",
    "    def get_balance(self):\n",
    "        print(self.__name.title(), '目前餘額:' , self.__balance)\n",
    "\n",
    "chiangbank = Banks('chiang')          # 定義物件chiangbank\n",
    "chiangbank.get_balance()   \n",
    "chiangbank.__balance = 100000000000  # 類別外直接竄改存款金額\n",
    "chiangbank.get_balance()\n",
    "\n",
    "# chiangbank.__bankname = 'suck my dick'\n",
    "chiangbank.__bankname\n"
   ]
  },
  {
   "cell_type": "code",
   "execution_count": 36,
   "id": "af5b72aa",
   "metadata": {},
   "outputs": [
    {
     "name": "stdout",
     "output_type": "stream",
     "text": [
      "Chiang 目前餘額: 1200\n"
     ]
    }
   ],
   "source": [
    "# 破解私有屬性-\n",
    "## Python高手可以用其他方法設定或取得私有屬性, 若是以執行完ch12_8.py 之後為例, 可以使用一下觀念存取私有屬性-\n",
    "## 物件名稱._類別名稱私有屬性  (此例為 chiangbank._Banks_balance)\n",
    "\n",
    "chiangbank._Banks__balance = 1200\n",
    "chiangbank.get_balance()\n",
    "\n",
    "\n"
   ]
  },
  {
   "cell_type": "code",
   "execution_count": 42,
   "id": "1a10fd7b",
   "metadata": {},
   "outputs": [],
   "source": [
    "# 12-2-2 私有方法-\n",
    "## 類別有私有屬性 也有 私有方法(private method)\n",
    "## 以換匯為例 (美金 v.s.台幣)"
   ]
  },
  {
   "cell_type": "code",
   "execution_count": 23,
   "id": "1e330f39",
   "metadata": {},
   "outputs": [
    {
     "name": "stdout",
     "output_type": "stream",
     "text": [
      "50 美金可以兌換 1485 台幣\n"
     ]
    }
   ],
   "source": [
    "# ch12_9.py\n",
    "class Banks():\n",
    "    def __init__(self, uname):           #初始化方法\n",
    "        self.__name = uname             #設定私有存款者名字\n",
    "        self.__balance = 0              #設定私有存款餘額  \n",
    "        self.__bankname = 'Taipei Bank' #設定私有銀行名稱\n",
    "        self.__rate = 30                #預設美金台幣匯差\n",
    "        self.__service_charge = 0.01   #換匯的手續費\n",
    "\n",
    "    def save_money(self, money):\n",
    "        self.__balance += money\n",
    "        print('存款', money, '完成')\n",
    "\n",
    "    def withdraw_money(self, money):\n",
    "        self.__balance -= money\n",
    "        print('提款', money, '完成')\n",
    "    \n",
    "    def get_balance(self):\n",
    "        print(self.__name.title(), '目前餘額:' , self.__balance)\n",
    "\n",
    "    def usa_to_taiwan(self, usa_d):                  # 美金兌換台幣方法\n",
    "        self.result = self.__cal_rate(usa_d)\n",
    "        return self.result\n",
    "\n",
    "    def __cal_rate(self, usa_d):\n",
    "        return int(usa_d * self.__rate * (1- self.__service_charge))\n",
    "        \n",
    "\n",
    "chiangbank = Banks('chiang')\n",
    "usdallor = 50\n",
    "print(usdallor, '美金可以兌換', chiangbank.usa_to_taiwan(usdallor), '台幣')\n"
   ]
  },
  {
   "cell_type": "code",
   "execution_count": null,
   "id": "59fdcf52",
   "metadata": {},
   "outputs": [],
   "source": [
    "12-3 類別的繼承- \n",
    "在程式設計中, 某些類別已經可以大致滿足我們的需求, 這時我們可以修改類別完成我們的工作.\n",
    "這樣會讓程式看起來更複雜. 或是我們可以重新寫新的類別\n",
    "碰是這類的問題解決的方法是使用繼承, 也就是延續使用舊類別. 設計子類別繼承此類別. 然後再子類別中設計新的屬性與方法. 這也是本節的主題.\n",
    "\n",
    "物件導向中, 類別是可以繼承, 其中\n",
    "被繼承的類別稱 父類別(parent class), 基底類別(base class), 或者超類別 (super class)\n",
    "繼承的類別稱 子類別(child class), 衍生類別(derived class)\n",
    "繼承類別 最大的優點是 許多父類別的公有 方法 或 屬性, 在子類別中不用重新設計, 可以直接引用"
   ]
  },
  {
   "cell_type": "code",
   "execution_count": null,
   "id": "83132e94",
   "metadata": {},
   "outputs": [],
   "source": [
    "在程式設計中, 基底類別(base class)必須再衍生類別(derived class)前面, 整個程式碼結構如下-\n",
    "\n",
    "class BaseClassName():   #先定義基底類別\n",
    "    Base Class的內容\n",
    "\n",
    "class DerivedClassName(BaseClassName):  #再定義衍生類別\n",
    "    Derived Class的內容\n",
    "\n",
    "\n",
    "衍生類別繼承了基底類別的屬性與方法, 同時也可以有自己的屬性"
   ]
  },
  {
   "cell_type": "code",
   "execution_count": 9,
   "id": "4f51dd95",
   "metadata": {},
   "outputs": [
    {
     "name": "stdout",
     "output_type": "stream",
     "text": [
      "我住在台北\n",
      "我住在台北\n"
     ]
    },
    {
     "data": {
      "text/plain": [
       "'\\nSon類別繼承Father類別, 所以第10列, 可以呼叫Father類別然後列印相同字串\\n'"
      ]
     },
     "execution_count": 9,
     "metadata": {},
     "output_type": "execute_result"
    }
   ],
   "source": [
    "'''\n",
    "程式實例CH12_9_1.py\n",
    "'''\n",
    "\n",
    "# ch12_9_1.py\n",
    "class Father():\n",
    "    def hometown(self):\n",
    "        print('我住在台北')\n",
    "\n",
    "class Son(Father):\n",
    "    pass\n",
    "\n",
    "hung = Father()\n",
    "ivan = Son()\n",
    "hung.hometown()\n",
    "ivan.hometown()\n",
    "\n",
    "\n",
    "'''\n",
    "Son類別繼承Father類別, 所以第10列, 可以呼叫Father類別然後列印相同字串\n",
    "'''\n"
   ]
  },
  {
   "cell_type": "code",
   "execution_count": null,
   "id": "293216ec",
   "metadata": {},
   "outputs": [
    {
     "name": "stdout",
     "output_type": "stream",
     "text": [
      "存款 500 完成\n",
      "Hung 目前餘額: 500\n"
     ]
    }
   ],
   "source": [
    "''' \n",
    "延續Banks類別建立一個分行 Shilin_Banks, 這個衍生類別沒有任何資料, 直接引用基底類別的公有函數, 執行銀行存款作業.\n",
    "下列是與 ch12_9.py不同的程式碼\n",
    "'''\n",
    "\n",
    "\n",
    "class Shilin_Banks(Banks):\n",
    "    #定義士林分行\n",
    "    pass\n",
    "\n",
    "hungbank = Shilin_Banks('hung')    #定義物件hungbank\n",
    "hungbank.save_money(500)\n",
    "hungbank.get_balance()"
   ]
  },
  {
   "cell_type": "code",
   "execution_count": null,
   "id": "2e4e09ac",
   "metadata": {},
   "outputs": [],
   "source": [
    "12-3-2 如何取得基底類別的私有屬性\n",
    "基於保護原因, 基本上定義外是無法直接取得類別內的私有屬性, 即使有它的衍生類別也無法直接讀取;\n",
    "如果果真要取得可以使用 return 方式, 傳回私有屬性內容."
   ]
  },
  {
   "cell_type": "code",
   "execution_count": null,
   "id": "54fc4e22",
   "metadata": {},
   "outputs": [
    {
     "name": "stdout",
     "output_type": "stream",
     "text": [
      "父類別: 台北市羅斯福路\n",
      "子類別: 台北市羅斯福路\n"
     ]
    }
   ],
   "source": [
    "''' \n",
    "程式實例 ch12_10_1.py:  設計一個子類別Son 的物件存取父類別私有屬性應用-\n",
    "'''\n",
    "class Father():\n",
    "    def __init__(self):\n",
    "        self.__address = '台北市羅斯福路'\n",
    "    def getaddr(self):\n",
    "        return self.__address\n",
    "\n",
    "class Son(Father):\n",
    "    pass\n",
    "\n",
    "hung = Father()\n",
    "ivan = Son()\n",
    "\n",
    "print ('父類別:', hung.getaddr())\n",
    "print ('子類別:', ivan.getaddr())"
   ]
  },
  {
   "cell_type": "code",
   "execution_count": null,
   "id": "a15cbf5c",
   "metadata": {},
   "outputs": [
    {
     "name": "stdout",
     "output_type": "stream",
     "text": [
      "我的存款銀行是:  Taipei Bank\n"
     ]
    }
   ],
   "source": [
    "''' \n",
    "程式實例 ch12_11.py: 衍生類別物件取得基底類別的銀行名稱bankname的屬性\n",
    "'''\n",
    "class Banks():\n",
    "    def __init__(self, uname):           #初始化方法\n",
    "        self.__name = uname             #設定私有存款者名字\n",
    "        self.__balance = 0              #設定私有存款餘額  \n",
    "        self.__bankname = 'Taipei Bank' #設定私有銀行名稱\n",
    "        self.__rate = 30                #預設美金台幣匯差\n",
    "        self.__service_charge = 0.01   #換匯的手續費\n",
    "\n",
    "    def save_money(self, money):\n",
    "        self.__balance += money\n",
    "        print('存款', money, '完成')\n",
    "\n",
    "    def withdraw_money(self, money):\n",
    "        self.__balance -= money\n",
    "        print('提款', money, '完成')\n",
    "    \n",
    "    def get_balance(self):\n",
    "        print(self.__name.title(), '目前餘額:' , self.__balance)\n",
    "\n",
    "    def usa_to_taiwan(self, usa_d):                  # 美金兌換台幣方法\n",
    "        self.result = self.__cal_rate(usa_d)\n",
    "        return self.result\n",
    "\n",
    "    def __cal_rate(self, usa_d):\n",
    "        return int(usa_d * self.__rate * (1- self.__service_charge))\n",
    "\n",
    "    def bank_title(self):               #獲得銀行名稱\n",
    "        return self.__bankname\n",
    "\n",
    "class Shilin_Banks(Banks):         #定義物件 hungbank\n",
    "    #定義士林分行\n",
    "    pass\n",
    "\n",
    "hungbank = Shilin_Banks('hung')\n",
    "print('我的存款銀行是: ', hungbank.bank_title())"
   ]
  },
  {
   "cell_type": "code",
   "execution_count": null,
   "id": "75aa1b50",
   "metadata": {},
   "outputs": [],
   "source": []
  }
 ],
 "metadata": {
  "kernelspec": {
   "display_name": "Python 3",
   "language": "python",
   "name": "python3"
  },
  "language_info": {
   "codemirror_mode": {
    "name": "ipython",
    "version": 3
   },
   "file_extension": ".py",
   "mimetype": "text/x-python",
   "name": "python",
   "nbconvert_exporter": "python",
   "pygments_lexer": "ipython3",
   "version": "3.12.2"
  }
 },
 "nbformat": 4,
 "nbformat_minor": 5
}

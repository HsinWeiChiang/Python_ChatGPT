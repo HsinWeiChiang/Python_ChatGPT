{
 "cells": [
  {
   "cell_type": "code",
   "execution_count": null,
   "id": "283d449b",
   "metadata": {},
   "outputs": [],
   "source": [
    "# 12-1 Class 類別的定義與使用\n",
    "\n",
    "# 類別的語法定義如下-\n",
    "\n",
    "class Classname():\n",
    "      statement1\n",
    "\n",
    "      ....\n",
    "\n",
    "      statementn\n",
    "\n",
    "# 以銀行為例, 說明最基本的類別觀念\n"
   ]
  },
  {
   "cell_type": "code",
   "execution_count": 2,
   "id": "baeed060",
   "metadata": {},
   "outputs": [],
   "source": [
    "# 12-1-1 定義類別- Banks的類別定義\n",
    "\n",
    "class Banks():\n",
    "    '''定義銀行類別'''\n",
    "    bankname = 'Taipei Bank'  #定義屬性\n",
    "    \n",
    "    def motto(self):  #定義方法\n",
    "        return '以客為尊'"
   ]
  },
  {
   "cell_type": "code",
   "execution_count": null,
   "id": "16becc85",
   "metadata": {},
   "outputs": [],
   "source": [
    "# 12-1--2 操作類別的屬性與方法- 想操作類別的屬性與方法, 必須先宣告該類別的物件(object)變數, 簡稱 物件\n",
    "\n",
    "object.類別的屬性\n",
    "object.類別的方法\n"
   ]
  },
  {
   "cell_type": "code",
   "execution_count": 4,
   "id": "b30a4215",
   "metadata": {},
   "outputs": [
    {
     "name": "stdout",
     "output_type": "stream",
     "text": [
      "目前服務銀行是 Taipei Bank\n",
      "銀行服務理念是 以客為尊\n"
     ]
    }
   ],
   "source": [
    "# ch12_-2.py- 擴充 ch12_1.py\n",
    "class Banks():\n",
    "    '''定義銀行類別'''\n",
    "    bankname = 'Taipei Bank'  #定義屬性\n",
    "    \n",
    "    def motto(self):  #定義方法\n",
    "        return '以客為尊'\n",
    "\n",
    "userbank = Banks()  # 定義物件userbank\n",
    "print('目前服務銀行是', userbank.bankname)\n",
    "print('銀行服務理念是', userbank.motto())\n"
   ]
  },
  {
   "cell_type": "code",
   "execution_count": 5,
   "id": "69f45482",
   "metadata": {},
   "outputs": [
    {
     "data": {
      "text/plain": [
       "'\\n上述程式, 成功了存取了 Banks類別內的屬性與方法. 程式定義了userbank當作是Banks類別物件, 使用userbank物件讀取Banks類別內的bankname屬性\\n與motto()方法.\\n當建立一個物件後, 這個物件就可以向其他python物件一樣, 將物件當作 串列/元組/ 字典/ 集合元素使用.\\n也可以該物件當作函數的參數傳送, 或是將此物件當作函數的回傳值\\n'"
      ]
     },
     "execution_count": 5,
     "metadata": {},
     "output_type": "execute_result"
    }
   ],
   "source": [
    "'''\n",
    "上述程式, 成功了存取了 Banks類別內的屬性與方法. 程式定義了userbank當作是Banks類別物件, 使用userbank物件讀取Banks類別內的bankname屬性\n",
    "與motto()方法.\n",
    "當建立一個物件後, 這個物件就可以向其他python物件一樣, 將物件當作 串列/元組/ 字典/ 集合元素使用.\n",
    "也可以該物件當作函數的參數傳送, 或是將此物件當作函數的回傳值\n",
    "'''\n"
   ]
  },
  {
   "cell_type": "code",
   "execution_count": 6,
   "id": "7ed7b9ad",
   "metadata": {},
   "outputs": [
    {
     "name": "stdout",
     "output_type": "stream",
     "text": [
      "Hung 存款餘額是  100\n"
     ]
    }
   ],
   "source": [
    "# 12-1-3 類別的建構方法\n",
    "# ch12_3.py\n",
    "\n",
    "class Banks():\n",
    "    bankname = 'Taipei Bank'            #定義屬性\n",
    "    def __init__(self, uname, money):   #初始化方法\n",
    "        self.name = uname               #設定存款者的名字\n",
    "        self.balance = money            #設定所存的錢\n",
    "\n",
    "    def get_balance(self):              #獲得存款餘額\n",
    "        return self.balance\n",
    "    \n",
    "hungbank = Banks('hung', 100)\n",
    "print(hungbank.name.title(), \"存款餘額是 \" , hungbank.get_balance())"
   ]
  },
  {
   "cell_type": "code",
   "execution_count": 7,
   "id": "e7cb9b02",
   "metadata": {},
   "outputs": [
    {
     "name": "stdout",
     "output_type": "stream",
     "text": [
      "Hung 目前餘額 100\n",
      "存款 300 完成\n",
      "Hung 目前餘額 400\n",
      "提款 800 完成\n",
      "Hung 目前餘額 -400\n"
     ]
    }
   ],
   "source": [
    "# ch12_4.py - 擴充ch12_3.py, 主要增加執行存款與提款功能, 同時在類別內可以直接列出目前餘額\n",
    "\n",
    "class Banks():\n",
    "    '''定義銀行類別'''\n",
    "    bankname = 'Taipei Bank'\n",
    "    def __init__(self, uname, money):\n",
    "        self.name = uname\n",
    "        self.balance = money\n",
    "\n",
    "    def save_money(self, money):\n",
    "        self.balance += money\n",
    "        print('存款', money, \"完成\")      \n",
    "\n",
    "    def withdraw_money(self, money):\n",
    "        self.balance -= money\n",
    "        print('提款', money, \"完成\")\n",
    "\n",
    "    def get_balance(self):\n",
    "        print(self.name.title(),'目前餘額', self.balance)\n",
    "\n",
    "hungbank = Banks ('hung', 100)\n",
    "hungbank.get_balance()\n",
    "hungbank.save_money(300)\n",
    "hungbank.get_balance()\n",
    "hungbank.withdraw_money(800)   \n",
    "hungbank.get_balance()"
   ]
  },
  {
   "cell_type": "code",
   "execution_count": 8,
   "id": "c445f545",
   "metadata": {},
   "outputs": [
    {
     "name": "stdout",
     "output_type": "stream",
     "text": [
      "Chiang 目前餘額 88888\n",
      "Tu 目前餘額 999\n"
     ]
    }
   ],
   "source": [
    "# 建立完類別後, 可以隨時使用多個物件 引用這個類別的屬性與函數-\n",
    "\n",
    "chiangbank = Banks('chiang', 88888)\n",
    "tubank = Banks('tu', 999)\n",
    "chiangbank.get_balance()\n",
    "tubank.get_balance()"
   ]
  },
  {
   "cell_type": "code",
   "execution_count": null,
   "id": "8746f453",
   "metadata": {},
   "outputs": [],
   "source": [
    "# 12-1-4 屬性初始值的設定-\n",
    "\n"
   ]
  }
 ],
 "metadata": {
  "kernelspec": {
   "display_name": "Python 3",
   "language": "python",
   "name": "python3"
  },
  "language_info": {
   "codemirror_mode": {
    "name": "ipython",
    "version": 3
   },
   "file_extension": ".py",
   "mimetype": "text/x-python",
   "name": "python",
   "nbconvert_exporter": "python",
   "pygments_lexer": "ipython3",
   "version": "3.12.2"
  }
 },
 "nbformat": 4,
 "nbformat_minor": 5
}
